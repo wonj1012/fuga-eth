{
 "cells": [
  {
   "cell_type": "code",
   "execution_count": 1,
   "metadata": {},
   "outputs": [],
   "source": [
    "from typing import Callable, Dict, Tuple\n",
    "from dotenv import load_dotenv\n",
    "import boto3\n",
    "import os \n",
    "import time"
   ]
  },
  {
   "cell_type": "code",
   "execution_count": 2,
   "metadata": {},
   "outputs": [],
   "source": [
    "load_dotenv()\n",
    "\n",
    "S3_ACCESS_KEY = os.environ.get('S3_ACCESS_KEY')\n",
    "S3_SCRETE_KEY = os.environ.get('S3_SCRETE_KEY')\n",
    "BUCKET_NAME = 'fugaeth'"
   ]
  },
  {
   "cell_type": "code",
   "execution_count": 3,
   "metadata": {},
   "outputs": [],
   "source": [
    "def s3_connection():\n",
    "    try:\n",
    "        s3 = boto3.client(\n",
    "            service_name=\"s3\",\n",
    "            region_name=\"ap-northeast-2\",\n",
    "            aws_access_key_id=S3_ACCESS_KEY,\n",
    "            aws_secret_access_key=S3_SCRETE_KEY\n",
    "        )\n",
    "    except Exception as e:\n",
    "        print(e)\n",
    "    else:\n",
    "        print(\"s3 bucket connected!\")\n",
    "        return s3"
   ]
  },
  {
   "cell_type": "code",
   "execution_count": 4,
   "metadata": {},
   "outputs": [
    {
     "name": "stdout",
     "output_type": "stream",
     "text": [
      "s3 bucket connected!\n"
     ]
    }
   ],
   "source": [
    "s3 = s3_connection()"
   ]
  },
  {
   "cell_type": "code",
   "execution_count": 6,
   "metadata": {},
   "outputs": [],
   "source": [
    "s3.upload_file(\"s3uploadtest.txt\",BUCKET_NAME, \"test\")"
   ]
  },
  {
   "cell_type": "code",
   "execution_count": 7,
   "metadata": {},
   "outputs": [],
   "source": [
    "s3.download_file(BUCKET_NAME, \"test\", \"s3downloadtest.txt\")"
   ]
  }
 ],
 "metadata": {
  "kernelspec": {
   "display_name": "fuga",
   "language": "python",
   "name": "python3"
  },
  "language_info": {
   "codemirror_mode": {
    "name": "ipython",
    "version": 3
   },
   "file_extension": ".py",
   "mimetype": "text/x-python",
   "name": "python",
   "nbconvert_exporter": "python",
   "pygments_lexer": "ipython3",
   "version": "3.7.16"
  },
  "orig_nbformat": 4
 },
 "nbformat": 4,
 "nbformat_minor": 2
}
